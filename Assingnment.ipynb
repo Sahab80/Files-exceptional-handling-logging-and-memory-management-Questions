{
  "nbformat": 4,
  "nbformat_minor": 0,
  "metadata": {
    "colab": {
      "provenance": []
    },
    "kernelspec": {
      "name": "python3",
      "display_name": "Python 3"
    },
    "language_info": {
      "name": "python"
    }
  },
  "cells": [
    {
      "cell_type": "markdown",
      "source": [
        "#***Theory Questions***"
      ],
      "metadata": {
        "id": "TVjt32SSeged"
      }
    },
    {
      "cell_type": "markdown",
      "source": [
        "1. What is the difference between interpreted and compiled languages?\n"
      ],
      "metadata": {
        "id": "XvgP9fi6fUjy"
      }
    },
    {
      "cell_type": "markdown",
      "source": [
        "Ans. **Compiled Languages** :-\n",
        "In a compiled language, a program called a compiler scans the entire source code and translates it into machine code, which is the native language of the processor. This process creates a standalone executable file (like a .exe on Windows). This executable can be run directly by the operating system without needing the original source code or the compiler.\n",
        "\n",
        "\n",
        "- Process: Source Code -> Compiler -> Machine Code (Executable File) -> Execution.\n",
        "\n",
        "- Speed: Generally faster at runtime because the translation work is already done.\n",
        "\n",
        "- Platform: The executable is specific to the operating system and CPU architecture it was compiled for (e.g., a program compiled for Windows won't run on a Mac).\n",
        "\n",
        "- Examples: C, C++, Rust, Go.\n",
        "***\n",
        "**Interpreted Languages**:-\n",
        "In an interpreted language, a program called an interpreter reads the source code one instruction at a time, translates it, and executes it immediately. No separate executable file is created. The source code needs to be distributed, and the end-user must have the corresponding interpreter installed to run the program.\n",
        "\n",
        "\n",
        "- Process: Source Code -> Interpreter (reads and executes line by line).\n",
        "\n",
        "- Speed: Generally slower because of the real-time translation overhead.\n",
        "\n",
        "- Platform: More portable. The same source code can run on any system (Windows, Mac, Linux) that has the correct interpreter installed.\n",
        "\n",
        "- Examples: Python, JavaScript, Ruby, PHP."
      ],
      "metadata": {
        "id": "TtfI6Oegffma"
      }
    },
    {
      "cell_type": "markdown",
      "source": [
        "2. What is exception handling in Python ?\n"
      ],
      "metadata": {
        "id": "E8shQSzXgKxj"
      }
    },
    {
      "cell_type": "markdown",
      "source": [
        "Ans. Exception handling in Python is a way to manage errors that occur during program execution. It allows the program to continue running instead of crashing when an error happens. This is done using the try, except, else, and finally blocks.\n",
        "\n",
        "EXAMPLE:"
      ],
      "metadata": {
        "id": "19b8356U64eL"
      }
    },
    {
      "cell_type": "code",
      "source": [
        "try:\n",
        "    x = 10 / 0\n",
        "except ZeroDivisionError:\n",
        "    print(\"Cannot divide by zero.\")\n"
      ],
      "metadata": {
        "colab": {
          "base_uri": "https://localhost:8080/"
        },
        "id": "qG4f3TzF8lZM",
        "outputId": "75a4e648-850a-455a-e7b8-03b6bc6caa5f"
      },
      "execution_count": null,
      "outputs": [
        {
          "output_type": "stream",
          "name": "stdout",
          "text": [
            "Cannot divide by zero.\n"
          ]
        }
      ]
    },
    {
      "cell_type": "markdown",
      "source": [
        "3. What is the purpose of the finally block in exception handling?\n"
      ],
      "metadata": {
        "id": "ubioMRu38tye"
      }
    },
    {
      "cell_type": "markdown",
      "source": [
        "Ans. The finally block in Python is used to define code that always runs, whether an exception occurs or not. It is typically used to perform cleanup actions like closing files or releasing resources."
      ],
      "metadata": {
        "id": "JsGcBnhg83A0"
      }
    },
    {
      "cell_type": "markdown",
      "source": [
        "4. What is logging in Python?\n"
      ],
      "metadata": {
        "id": "NBrbR-jf9Zri"
      }
    },
    {
      "cell_type": "markdown",
      "source": [
        "Ans. Logging in Python is a way to record messages that describe the events happening in a program. It is used for debugging, tracking errors, and monitoring program execution.\n",
        "\n",
        "Python provides a built-in logging module to create log messages at different levels like DEBUG, INFO, WARNING, ERROR, and CRITICAL."
      ],
      "metadata": {
        "id": "9B9WGbnu9gRc"
      }
    },
    {
      "cell_type": "markdown",
      "source": [
        "5.  What is the significance of the __del __ method in Python?\n"
      ],
      "metadata": {
        "id": "dYjzsRo594_F"
      }
    },
    {
      "cell_type": "markdown",
      "source": [
        "Ans. The __del __ method in Python is a special method called a destructor. It is automatically called when an object is about to be deleted or destroyed, to perform cleanup tasks like closing files or releasing resources."
      ],
      "metadata": {
        "id": "Ebu6q0Yp-CIK"
      }
    },
    {
      "cell_type": "markdown",
      "source": [
        "6. What is the difference between import and from ... import in Python?\n"
      ],
      "metadata": {
        "id": "gAeKj-i3-f8k"
      }
    },
    {
      "cell_type": "markdown",
      "source": [
        "Ans. import is used to import the whole module.\n",
        "\n",
        "from ... import is used to import specific functions, classes, or variables from a module."
      ],
      "metadata": {
        "id": "hUT3JOcW_T6r"
      }
    },
    {
      "cell_type": "markdown",
      "source": [
        "7. How can you handle multiple exceptions in Python?\n"
      ],
      "metadata": {
        "id": "cbap9JIh_ZC8"
      }
    },
    {
      "cell_type": "markdown",
      "source": [
        "Ans. In Python, you can handle multiple exceptions by using multiple except blocks or by handling multiple exceptions in a single block using a tuple."
      ],
      "metadata": {
        "id": "B1WJvqWG_ni7"
      }
    },
    {
      "cell_type": "markdown",
      "source": [
        "8. What is the purpose of the with statement when handling files in Python?\n"
      ],
      "metadata": {
        "id": "ohhrlMvKd_n_"
      }
    },
    {
      "cell_type": "markdown",
      "source": [
        "Ans. The with statement is used to open files safely. It automatically closes the file after the block, even if an error occurs."
      ],
      "metadata": {
        "id": "z3nCx9AoeeWb"
      }
    },
    {
      "cell_type": "markdown",
      "source": [
        "9. What is the difference between multithreading and multiprocessing?\n"
      ],
      "metadata": {
        "id": "YXTcrx94eiWE"
      }
    },
    {
      "cell_type": "markdown",
      "source": [
        "Multithreading and Multiprocessing are both ways to achieve concurrent execution in Python, but they work differently.\n",
        "\n",
        " ***Multithreading***:\n",
        "\n",
        "Uses multiple threads within the same process.\n",
        "\n",
        "Threads share the same memory space, so communication is easy.\n",
        "\n",
        "Good for I/O-bound tasks like:\n",
        "\n",
        "Reading/writing files\n",
        "\n",
        "Downloading data\n",
        "\n",
        "Waiting for user input\n",
        "\n",
        "Python's Global Interpreter Lock (GIL) allows only one thread to execute Python code at a time, so it's not ideal for CPU-heavy work.\n",
        "\n",
        "Example use: Web servers, file downloads.\n",
        "\n",
        "***Multiprocessing***:\n",
        "\n",
        "Uses multiple processes, each with its own memory space.\n",
        "\n",
        "Processes run independently, so no GIL limitation.\n",
        "\n",
        "Better for CPU-bound tasks like:\n",
        "\n",
        "Heavy calculations\n",
        "\n",
        "Data analysis\n",
        "\n",
        "Image or video processing\n",
        "\n",
        "Slightly more memory and setup required due to separate processes."
      ],
      "metadata": {
        "id": "f3nbIshEe0Lj"
      }
    },
    {
      "cell_type": "markdown",
      "source": [
        "10. What are the advantages of using logging in a program?\n"
      ],
      "metadata": {
        "id": "hMBYL3DVff7c"
      }
    },
    {
      "cell_type": "markdown",
      "source": [
        "Ans. **Advantages of Logging**:\n",
        "\n",
        "- Tracks Errors:-\n",
        " Helps find bugs and errors by recording them.\n",
        "\n",
        "- Easy Debugging:-\n",
        "Shows what happened and when, making debugging easier.\n",
        "\n",
        "- Stores Information:-\n",
        "Logs can be saved to a file for future analysis.\n",
        "\n",
        "- Different Log Levels:-\n",
        "Supports levels like INFO, WARNING, ERROR, etc., to organize messages.\n",
        "\n",
        "- Better than print():-\n",
        "More flexible and professional for real-world applications.\n",
        "\n",
        "- Helps in Monitoring:-\n",
        "Useful in monitoring running systems or applications (especially servers)."
      ],
      "metadata": {
        "id": "PyCA5pykftki"
      }
    },
    {
      "cell_type": "markdown",
      "source": [
        "11. What is memory management in Python?\n"
      ],
      "metadata": {
        "id": "FWCX0v8hgOYD"
      }
    },
    {
      "cell_type": "markdown",
      "source": [
        "Ans. Memory management in Python refers to how Python allocates, uses, and releases memory while a program runs.\n",
        "\n",
        " **Key Points**:\n",
        "\n",
        "1. Automatic Memory Allocation:\n",
        "Python automatically allocates memory when variables or objects are created.\n",
        "\n",
        "2. Garbage Collection:\n",
        "Unused memory is freed using a garbage collector, which removes objects no longer in use.\n",
        "\n",
        "3. Reference Counting:\n",
        "Python keeps track of how many references an object has. When it reaches zero, the memory is released.\n",
        "\n",
        "4. Private Heap Space:\n",
        "All Python objects and data are stored in a private heap managed by the Python memory manager.\n",
        "\n",
        "5. Memory Pools:\n",
        "Python uses memory pools (through the pymalloc system) for efficient memory reuse."
      ],
      "metadata": {
        "id": "zM7duP_zgbRk"
      }
    },
    {
      "cell_type": "markdown",
      "source": [
        "12.  What are the basic steps involved in exception handling in Python?\n"
      ],
      "metadata": {
        "id": "xbcH2MPLgz37"
      }
    },
    {
      "cell_type": "markdown",
      "source": [
        "Ans.  **try block**:\n",
        "Used to write the code that might cause an exception.\n",
        "\n",
        "**except block**:\n",
        "Catches and handles the exception if it occurs in the try block.\n",
        "\n",
        "**else block** (optional):\n",
        "Executes if no exception is raised in the try block.\n",
        "\n",
        "**finally block** (optional):\n",
        "Executes no matter what — whether an exception occurs or not. Usually used for cleanup actions."
      ],
      "metadata": {
        "id": "jCWm4WRrhwa0"
      }
    },
    {
      "cell_type": "markdown",
      "source": [
        "13.  Why is memory management important in Python?\n"
      ],
      "metadata": {
        "id": "O3aYfEE_iBvb"
      }
    },
    {
      "cell_type": "markdown",
      "source": [
        " Ans. Memory management is important in Python to ensure:\n",
        "\n",
        "- **Efficient Use of Memory**:\n",
        "Prevents memory waste by allocating only what is needed.\n",
        "\n",
        "- **Program Stability**:\n",
        "Reduces the chances of crashes or slowdowns due to memory leaks.\n",
        "\n",
        "- **Automatic Cleanup**:\n",
        "Frees unused memory through garbage collection, improving performance.\n",
        "\n",
        "- **Better Performance**:\n",
        "Helps programs run faster and use system resources wisely.\n",
        "\n",
        "- **Scalability**:\n",
        "Allows large applications to manage memory effectively without manual control."
      ],
      "metadata": {
        "id": "tfDOgpjeibZT"
      }
    },
    {
      "cell_type": "markdown",
      "source": [
        "14 What is the role of try and except in exception handling?\n"
      ],
      "metadata": {
        "id": "fkmDSHp6ivAz"
      }
    },
    {
      "cell_type": "markdown",
      "source": [
        "Ans. The role of try and except in exception handling is to allow a program to gracefully handle errors (exceptions) that may occur during execution, instead of crashing abruptly.\n",
        "\n",
        "**try block**:\n",
        "\n",
        "This is where you write the code that might raise an exception. The program attempts to execute the code inside this block.\n",
        "\n",
        "**except block**:\n",
        "\n",
        "This block catches and handles the exception if one occurs inside the try block. You can specify the type of exception to catch or catch all exceptions."
      ],
      "metadata": {
        "id": "0ZwgEp8ijO5C"
      }
    },
    {
      "cell_type": "markdown",
      "source": [
        "15. How does Python's garbage collection system work?\n"
      ],
      "metadata": {
        "id": "ZM4pyFkmjcar"
      }
    },
    {
      "cell_type": "markdown",
      "source": [
        "Ans. Python automatically manages memory using garbage collection. It frees up memory by removing objects that are no longer referenced anywhere in the program. Python mainly uses:\n",
        "\n",
        "- Reference counting: Every object keeps track of how many references point to it. When the count drops to zero, the object is deleted immediately.\n",
        "\n",
        "- Cycle detector: To handle reference cycles (objects referencing each other), Python’s garbage collector periodically looks for and cleans up these unreachable cycles."
      ],
      "metadata": {
        "id": "WVgncZOxjn5I"
      }
    },
    {
      "cell_type": "markdown",
      "source": [
        "16. What is the purpose of the else block in exception handling?\n"
      ],
      "metadata": {
        "id": "7pgjCi2qQqS9"
      }
    },
    {
      "cell_type": "markdown",
      "source": [
        "Ans. The else block in exception handling is used to execute code only if no exception occurs in the try block. It helps keep the code cleaner by separating the error-prone code from the code that should run when everything goes right."
      ],
      "metadata": {
        "id": "bQNo1gJSRiXO"
      }
    },
    {
      "cell_type": "markdown",
      "source": [
        "17. What are the common logging levels in Python?\n"
      ],
      "metadata": {
        "id": "8MB6z_olSQz1"
      }
    },
    {
      "cell_type": "markdown",
      "source": [
        "Ans. Python provides five common logging levels, each indicating the severity of events:\n",
        "\n",
        "**DEBUG** – Detailed information, used for diagnosing problems.\n",
        "\n",
        "**INFO** – General information about program execution.\n",
        "\n",
        "**WARNING** – An indication of a potential problem or unexpected event.\n",
        "\n",
        "**ERROR** – A more serious problem that has caused part of the program to fail.\n",
        "\n",
        "**CRITICAL** – A very serious error, indicating the program may not be able to continue running.\n",
        "\n",
        "These levels help control what kind of messages are logged during the execution of a program."
      ],
      "metadata": {
        "id": "GGB_NVz6S6Vm"
      }
    },
    {
      "cell_type": "markdown",
      "source": [
        "18. What is the difference between os.fork() and multiprocessing in Python?\n"
      ],
      "metadata": {
        "id": "6sIljPqeSWpl"
      }
    },
    {
      "cell_type": "markdown",
      "source": [
        "Ans.\n",
        "| Feature                | `os.fork()`                            | `multiprocessing` module                          |\n",
        "| ---------------------- | -------------------------------------- | ------------------------------------------------- |\n",
        "| **Usage**              | Creates a child process manually.      | Provides a high-level API for process creation.   |\n",
        "| **Portability**        | **Unix/Linux only**                    | **Cross-platform** (works on Windows, Mac, Linux) |\n",
        "| **Ease of Use**        | Low-level, harder to manage.           | High-level, easier to use and manage.             |\n",
        "| **Process Management** | Manual (you handle everything).        | Automatic handling of process lifecycle.          |\n",
        "| **Recommended**        | For low-level control in Unix systems. | For general use across all platforms.             |\n"
      ],
      "metadata": {
        "id": "3B6nnLIATZm8"
      }
    },
    {
      "cell_type": "markdown",
      "source": [
        "19. What is the importance of closing a file in Python?\n"
      ],
      "metadata": {
        "id": "16NnNMr_TeIv"
      }
    },
    {
      "cell_type": "markdown",
      "source": [
        "Ans. Closing a file in Python is important because:\n",
        "\n",
        "- Frees System Resources – It releases memory and file handles used by the system.\n",
        "\n",
        "- Ensures Data is Written – For write operations, it makes sure all data is saved properly to the file.\n",
        "\n",
        "- Avoids File Corruption – Prevents data loss or file damage.\n",
        "\n",
        "- Allows Other Programs Access – Some systems lock files when open; closing them removes the lock.\n",
        "\n",
        "Always use file.close() or a with statement to ensure the file is properly closed."
      ],
      "metadata": {
        "id": "66d5vmXrTwWM"
      }
    },
    {
      "cell_type": "markdown",
      "source": [
        "20. What is the difference between file.read() and file.readline() in Python?\n"
      ],
      "metadata": {
        "id": "8g9QOWN1Ug41"
      }
    },
    {
      "cell_type": "markdown",
      "source": [
        "Ans. In Python, both file.read() and file.readline() are used to read data from a file, but they work in different ways and are used in different scenarios.\n",
        "\n",
        "\n",
        "**file.read()**:-\n",
        "\n",
        "What it does:\n",
        "Reads the entire contents of the file and returns it as a single string.\n",
        "\n",
        "When to use:\n",
        "When you want to process or view the whole file at once (like reading a config file or a short text file).\n",
        "\n",
        "**file.readline()**:-\n",
        "\n",
        "What it does:\n",
        "Reads only one line from the file at a time (including the newline character \\n).\n",
        "\n",
        "When to use:\n",
        "Useful when reading large files line by line to save memory, or when processing one line at a time (like parsing logs)."
      ],
      "metadata": {
        "id": "cB-sNC05U9yE"
      }
    },
    {
      "cell_type": "markdown",
      "source": [
        "21. What is the logging module in Python used for?\n",
        "\n"
      ],
      "metadata": {
        "id": "SUoue85FYV98"
      }
    },
    {
      "cell_type": "markdown",
      "source": [
        "Ans. The logging module in Python is used to record messages about the execution of a program. It helps in debugging, tracking errors, and monitoring program behavior by logging messages at different levels like DEBUG, INFO, WARNING, ERROR, and CRITICAL."
      ],
      "metadata": {
        "id": "TmedLObYYhpq"
      }
    },
    {
      "cell_type": "markdown",
      "source": [
        "22. What is the os module in Python used for in file handling?\n"
      ],
      "metadata": {
        "id": "aAmep19SaG_B"
      }
    },
    {
      "cell_type": "markdown",
      "source": [
        "Ans. The os module provides functions to interact with the operating system for file handling tasks like:\n",
        "\n",
        "- Creating, deleting, and renaming files and directories\n",
        "\n",
        "- Checking if a file or directory exists\n",
        "\n",
        "- Changing the current working directory\n",
        "\n",
        "- Getting file information (like size or modification time)\n",
        "\n",
        "It helps perform low-level file and directory operations that are not directly available through basic file objects."
      ],
      "metadata": {
        "id": "fp3p7bgmbiuo"
      }
    },
    {
      "cell_type": "markdown",
      "source": [
        "23. What are the challenges associated with memory management in Python?\n"
      ],
      "metadata": {
        "id": "Zq1PEX9oby_p"
      }
    },
    {
      "cell_type": "markdown",
      "source": [
        "- Automatic memory management can sometimes lead to unpredictable performance due to garbage collection pauses.\n",
        "\n",
        "- Memory leaks can occur if references to unused objects are unintentionally kept.\n",
        "\n",
        "- Managing large data structures can consume significant memory.\n",
        "\n",
        "- Python’s reference counting may struggle with circular references, requiring a cyclic garbage collector.\n",
        "\n",
        "- Limited control over low-level memory allocation compared to languages like C/C++.\n",
        "\n",
        "These challenges can affect efficiency, especially in memory-intensive or long-running programs."
      ],
      "metadata": {
        "id": "4Euxrgl8cyRg"
      }
    },
    {
      "cell_type": "markdown",
      "source": [
        "24.  How do you raise an exception manually in Python?\n"
      ],
      "metadata": {
        "id": "ZUhlrp4seMdA"
      }
    },
    {
      "cell_type": "markdown",
      "source": [
        "Ans. In Python, you can manually raise an exception using the raise statement. This is useful when you want to forcefully signal an error in your program if a certain condition occurs."
      ],
      "metadata": {
        "id": "UgexPSIXgBu5"
      }
    },
    {
      "cell_type": "markdown",
      "source": [
        "You can raise an exception manually using the raise statement followed by an exception type."
      ],
      "metadata": {
        "id": "-wSQ9r7AeRWn"
      }
    },
    {
      "cell_type": "markdown",
      "source": [
        "25. Why is it important to use multithreading in certain applications?"
      ],
      "metadata": {
        "id": "5GnNC3kygbgx"
      }
    },
    {
      "cell_type": "markdown",
      "source": [
        "Ans. Multithreading is important because it allows a program to perform multiple tasks at the same time, improving:\n",
        "\n",
        "- Responsiveness — The program can stay responsive while doing background work (e.g., in GUIs or web servers).\n",
        "\n",
        "- Efficiency — It can run I/O-bound tasks (like reading files or network calls) concurrently, reducing waiting time.\n",
        "\n",
        "- Better resource use — Threads share the same memory space, so communication between them is faster and uses less memory than separate processes.\n",
        "\n",
        "Multithreading is especially useful in applications that require handling many tasks simultaneously without blocking the main program flow."
      ],
      "metadata": {
        "id": "1KW_bMD8gkVX"
      }
    },
    {
      "cell_type": "markdown",
      "source": [
        "# Practical Question"
      ],
      "metadata": {
        "id": "aDpKcoXIg7nO"
      }
    },
    {
      "cell_type": "markdown",
      "source": [
        "1.  How can you open a file for writing in Python and write a string to it?\n",
        "\n",
        "Ans."
      ],
      "metadata": {
        "id": "7uNgiyGfhQEB"
      }
    },
    {
      "cell_type": "code",
      "source": [
        "# Open the file in write mode ('w')\n",
        "with open(\"example.txt\", \"w\") as file:\n",
        "    # Write a string to the file\n",
        "    file.write(\"Hello, this is a sample text!\")"
      ],
      "metadata": {
        "id": "3yXmGAAGiUWo"
      },
      "execution_count": null,
      "outputs": []
    },
    {
      "cell_type": "markdown",
      "source": [
        "2. Write a Python program to read the contents of a file and print each line.\n",
        "\n",
        "Ans."
      ],
      "metadata": {
        "id": "6PMTOcM_ircY"
      }
    },
    {
      "cell_type": "code",
      "source": [
        "# Open the file in read mode ('r')\n",
        "with open(\"example.txt\", \"r\") as file:\n",
        "    # Loop through each line in the file\n",
        "    for line in file:\n",
        "        print(line, end='')  # Print the line without adding extra newlines\n"
      ],
      "metadata": {
        "colab": {
          "base_uri": "https://localhost:8080/"
        },
        "id": "NkFT6DG-jKjt",
        "outputId": "8e17a12a-7503-4bef-b792-e6ca256ea74b"
      },
      "execution_count": null,
      "outputs": [
        {
          "output_type": "stream",
          "name": "stdout",
          "text": [
            "Hello, this is a sample text!"
          ]
        }
      ]
    },
    {
      "cell_type": "markdown",
      "source": [
        "3.  How would you handle a case where the file doesn't exist while trying to open it for reading?\n",
        "\n",
        "Ans."
      ],
      "metadata": {
        "id": "57IEX9v-jdOH"
      }
    },
    {
      "cell_type": "code",
      "source": [
        "try:\n",
        "    with open(\"nonexistent_file.txt\", \"r\") as file:\n",
        "        content = file.read()\n",
        "        print(content)\n",
        "except FileNotFoundError:\n",
        "    print(\"Error: The file does not exist.\")\n"
      ],
      "metadata": {
        "colab": {
          "base_uri": "https://localhost:8080/"
        },
        "id": "8leqGpPljrKt",
        "outputId": "b842cba7-10bf-405e-e9bf-5c64dfe33eee"
      },
      "execution_count": null,
      "outputs": [
        {
          "output_type": "stream",
          "name": "stdout",
          "text": [
            "Error: The file does not exist.\n"
          ]
        }
      ]
    },
    {
      "cell_type": "markdown",
      "source": [
        "4. Write a Python script that reads from one file and writes its content to another file."
      ],
      "metadata": {
        "id": "q47p0RMUj6RX"
      }
    },
    {
      "cell_type": "code",
      "source": [
        "# Open the source file for reading and destination file for writing\n",
        "with open(\"source.txt\", \"r\") as src_file, open(\"destination.txt\", \"w\") as dest_file:\n",
        "    # Read from source and write to destination\n",
        "    for line in src_file:\n",
        "        dest_file.write(line)\n",
        "\n"
      ],
      "metadata": {
        "id": "k0nCMPV2j3xd"
      },
      "execution_count": null,
      "outputs": []
    },
    {
      "cell_type": "markdown",
      "source": [
        "5. How would you catch and handle division by zero error in Python?"
      ],
      "metadata": {
        "id": "EmX-8Sz5n2BM"
      }
    },
    {
      "cell_type": "code",
      "source": [
        "try:\n",
        "    result = 10 / 0\n",
        "except ZeroDivisionError:\n",
        "    print(\"Error: Cannot divide by zero.\")\n",
        "else:\n",
        "    print(\"Result is\", result)"
      ],
      "metadata": {
        "colab": {
          "base_uri": "https://localhost:8080/"
        },
        "id": "_WjKKWyOkWmU",
        "outputId": "1df3768f-a3d1-40dd-f3cb-3b2a47ae6f8a"
      },
      "execution_count": null,
      "outputs": [
        {
          "output_type": "stream",
          "name": "stdout",
          "text": [
            "Error: Cannot divide by zero.\n"
          ]
        }
      ]
    },
    {
      "cell_type": "markdown",
      "source": [
        "6. Write a Python program that logs an error message to a log file when a division by zero exception occurs."
      ],
      "metadata": {
        "id": "B-vfaIxooX4W"
      }
    },
    {
      "cell_type": "code",
      "source": [
        "import logging\n",
        "\n",
        "# Configure logging to write to a file named 'error.log'\n",
        "logging.basicConfig(filename='error.log', level=logging.ERROR,\n",
        "                    format='%(asctime)s - %(levelname)s - %(message)s')\n",
        "\n",
        "try:\n",
        "    result = 10 / 0\n",
        "except ZeroDivisionError as e:\n",
        "    logging.error(\"Division by zero error occurred: %s\", e)\n",
        "    print(\"An error occurred. Check the log file for details.\")\n"
      ],
      "metadata": {
        "colab": {
          "base_uri": "https://localhost:8080/"
        },
        "id": "dHC49ixloPp8",
        "outputId": "334ccf9b-98f8-4b90-e51d-65bc43f6827a"
      },
      "execution_count": null,
      "outputs": [
        {
          "output_type": "stream",
          "name": "stderr",
          "text": [
            "ERROR:root:Division by zero error occurred: division by zero\n"
          ]
        },
        {
          "output_type": "stream",
          "name": "stdout",
          "text": [
            "An error occurred. Check the log file for details.\n"
          ]
        }
      ]
    },
    {
      "cell_type": "markdown",
      "source": [
        "7. How do you log information at different levels (INFO, ERROR, WARNING) in Python using the logging module?"
      ],
      "metadata": {
        "id": "sYg_2vUVo6IM"
      }
    },
    {
      "cell_type": "code",
      "source": [
        "import logging\n",
        "\n",
        "# Configure basic logging\n",
        "logging.basicConfig(level=logging.DEBUG, format='%(levelname)s: %(message)s')\n",
        "\n",
        "logging.info(\"This is an info message\")      # INFO level\n",
        "logging.warning(\"This is a warning message\") # WARNING level\n",
        "logging.error(\"This is an error message\")    # ERROR level\n"
      ],
      "metadata": {
        "colab": {
          "base_uri": "https://localhost:8080/"
        },
        "id": "_4rfOa2hoyyR",
        "outputId": "38ecea72-1a2d-4ab1-edc3-73c8179464b4"
      },
      "execution_count": null,
      "outputs": [
        {
          "output_type": "stream",
          "name": "stderr",
          "text": [
            "WARNING:root:This is a warning message\n",
            "ERROR:root:This is an error message\n"
          ]
        }
      ]
    },
    {
      "cell_type": "markdown",
      "source": [
        "8. Write a program to handle a file opening error using exception handling?\n"
      ],
      "metadata": {
        "id": "nPir4F_0pqBU"
      }
    },
    {
      "cell_type": "code",
      "source": [
        "try:\n",
        "    with open(\"nonexistent_file.txt\", \"r\") as file:\n",
        "        content = file.read()\n",
        "        print(content)\n",
        "except FileNotFoundError:\n",
        "    print(\"Error: The file you are trying to open does not exist.\")\n",
        "except IOError:\n",
        "    print(\"Error: An input/output error occurred while opening the file.\")\n"
      ],
      "metadata": {
        "colab": {
          "base_uri": "https://localhost:8080/"
        },
        "id": "p-37feG-pnkO",
        "outputId": "ecf00daf-0634-44a9-f565-cca7d9a55474"
      },
      "execution_count": null,
      "outputs": [
        {
          "output_type": "stream",
          "name": "stdout",
          "text": [
            "Error: The file you are trying to open does not exist.\n"
          ]
        }
      ]
    },
    {
      "cell_type": "markdown",
      "source": [
        "9. How can you read a file line by line and store its content in a list in Python?"
      ],
      "metadata": {
        "id": "YcNuz1-WqGy8"
      }
    },
    {
      "cell_type": "code",
      "source": [
        "lines = []\n",
        "\n",
        "with open(\"example.txt\", \"r\") as file:\n",
        "    for line in file:\n",
        "        lines.append(line.rstrip('\\n'))  # Remove newline characters\n",
        "\n",
        "print(lines)\n"
      ],
      "metadata": {
        "colab": {
          "base_uri": "https://localhost:8080/"
        },
        "id": "flwP32l_qCOJ",
        "outputId": "da828296-5d14-4b0b-89dc-fcead6d830d9"
      },
      "execution_count": null,
      "outputs": [
        {
          "output_type": "stream",
          "name": "stdout",
          "text": [
            "['Hello, this is a sample text!']\n"
          ]
        }
      ]
    },
    {
      "cell_type": "markdown",
      "source": [
        "10. How can you append data to an existing file in Python?"
      ],
      "metadata": {
        "id": "Lo8pVvrCrDLl"
      }
    },
    {
      "cell_type": "code",
      "source": [
        "with open(\"example.txt\", \"a\") as file:\n",
        "    file.write(\"This is the new data being appended.\\n\")\n"
      ],
      "metadata": {
        "id": "jTVu58Nmqg1W"
      },
      "execution_count": null,
      "outputs": []
    },
    {
      "cell_type": "markdown",
      "source": [
        "11. Write a Python program that uses a try-except block to handle an error when attempting to access a dictionary key that doesn't exist."
      ],
      "metadata": {
        "id": "VL8RX_d9sGa0"
      }
    },
    {
      "cell_type": "code",
      "source": [
        "my_dict = {\"name\": \"Alice\", \"age\": 25}\n",
        "\n",
        "try:\n",
        "    value = my_dict[\"address\"]\n",
        "except KeyError:\n",
        "    print(\"Error: The key 'address' does not exist in the dictionary.\")\n",
        "else:\n",
        "    print(\"Address:\", value)\n"
      ],
      "metadata": {
        "colab": {
          "base_uri": "https://localhost:8080/"
        },
        "id": "lRuFiYDtr05E",
        "outputId": "2ccda542-369f-4caf-b7e3-a06c32d84aa7"
      },
      "execution_count": null,
      "outputs": [
        {
          "output_type": "stream",
          "name": "stdout",
          "text": [
            "Error: The key 'address' does not exist in the dictionary.\n"
          ]
        }
      ]
    },
    {
      "cell_type": "markdown",
      "source": [
        "12. Write a program that demonstrates using multiple except blocks to handle different types of exceptions."
      ],
      "metadata": {
        "id": "v3tWydcHtlBb"
      }
    },
    {
      "cell_type": "code",
      "source": [
        "try:\n",
        "    num1 = int(input(\"Enter a number: \"))\n",
        "    num2 = int(input(\"Enter another number: \"))\n",
        "    result = num1 / num2\n",
        "except ValueError:\n",
        "    print(\"Error: Please enter valid integers.\")\n",
        "except ZeroDivisionError:\n",
        "    print(\"Error: Cannot divide by zero.\")\n",
        "except Exception as e:\n",
        "    print(f\"Unexpected error: {e}\")\n",
        "else:\n",
        "    print(\"Result is:\", result)\n"
      ],
      "metadata": {
        "colab": {
          "base_uri": "https://localhost:8080/"
        },
        "id": "cdgF0VTIs46t",
        "outputId": "e088ae62-7909-4ea8-98c9-c2af064e6c39"
      },
      "execution_count": null,
      "outputs": [
        {
          "output_type": "stream",
          "name": "stdout",
          "text": [
            "Enter a number: 143\n",
            "Enter another number: 496\n",
            "Result is: 0.28830645161290325\n"
          ]
        }
      ]
    },
    {
      "cell_type": "markdown",
      "source": [
        "13. How would you check if a file exists before attempting to read it in Python?"
      ],
      "metadata": {
        "id": "dC1Co5Fwuevq"
      }
    },
    {
      "cell_type": "code",
      "source": [
        "import os\n",
        "\n",
        "filename = \"example.txt\"\n",
        "\n",
        "if os.path.exists(filename):\n",
        "    with open(filename, \"r\") as file:\n",
        "        content = file.read()\n",
        "        print(content)\n",
        "else:\n",
        "    print(\"File does not exist.\")\n"
      ],
      "metadata": {
        "colab": {
          "base_uri": "https://localhost:8080/"
        },
        "id": "CrbscU2HuRoo",
        "outputId": "1920e2cb-9df6-4854-9ba4-ff4996b5d9b9"
      },
      "execution_count": null,
      "outputs": [
        {
          "output_type": "stream",
          "name": "stdout",
          "text": [
            "Hello, this is a sample text!This is the new data being appended.\n",
            "This is the new data being appended.\n",
            "\n"
          ]
        }
      ]
    },
    {
      "cell_type": "markdown",
      "source": [
        "14. Write a program that uses the logging module to log both informational and error messages?"
      ],
      "metadata": {
        "id": "jP63vWE8vF4T"
      }
    },
    {
      "cell_type": "code",
      "source": [
        "import logging\n",
        "\n",
        "# Configure logging to display messages to the console\n",
        "logging.basicConfig(level=logging.DEBUG, format='%(levelname)s: %(message)s')\n",
        "\n",
        "logging.info(\"This is an informational message.\")\n",
        "logging.error(\"This is an error message.\")\n"
      ],
      "metadata": {
        "colab": {
          "base_uri": "https://localhost:8080/"
        },
        "id": "Dm4kGde_u2D8",
        "outputId": "86accd4a-2a2d-46c9-b4e8-759f900324a7"
      },
      "execution_count": null,
      "outputs": [
        {
          "output_type": "stream",
          "name": "stderr",
          "text": [
            "ERROR:root:This is an error message.\n"
          ]
        }
      ]
    },
    {
      "cell_type": "markdown",
      "source": [
        "15. Write a Python program that prints the content of a file and handles the case when the file is empty?"
      ],
      "metadata": {
        "id": "u2FgQjxPwJU4"
      }
    },
    {
      "cell_type": "code",
      "source": [
        "filename = \"example.txt\"\n",
        "\n",
        "try:\n",
        "    with open(filename, \"r\") as file:\n",
        "        content = file.read()\n",
        "        if content:\n",
        "            print(content)\n",
        "        else:\n",
        "            print(\"The file is empty.\")\n",
        "except FileNotFoundError:\n",
        "    print(f\"Error: The file '{filename}' does not exist.\")\n"
      ],
      "metadata": {
        "colab": {
          "base_uri": "https://localhost:8080/"
        },
        "id": "PiSPz_eNvek_",
        "outputId": "60f4a9c1-ab79-47e2-c293-0e0f59b86334"
      },
      "execution_count": null,
      "outputs": [
        {
          "output_type": "stream",
          "name": "stdout",
          "text": [
            "Hello, this is a sample text!This is the new data being appended.\n",
            "This is the new data being appended.\n",
            "\n"
          ]
        }
      ]
    },
    {
      "cell_type": "markdown",
      "source": [
        "16. Demonstrate how to use memory profiling to check the memory usage of a small program?"
      ],
      "metadata": {
        "id": "-uX1uvr9w-_R"
      }
    },
    {
      "cell_type": "code",
      "source": [
        "print(\"\\n--- Memory profiling example ---\")\n",
        "from memory_profiler import profile\n",
        "\n",
        "@profile\n",
        "def my_function():\n",
        "    a = [i * 2 for i in range(100000)]\n",
        "    return a\n",
        "\n",
        "if __name__ == \"__main__\":\n",
        "    my_function()"
      ],
      "metadata": {
        "id": "yvnCDGH0wu-g"
      },
      "execution_count": null,
      "outputs": []
    },
    {
      "cell_type": "markdown",
      "source": [
        "17. Write a Python program to create and write a list of numbers to a file, one number per line."
      ],
      "metadata": {
        "id": "9OoILVbn0LpQ"
      }
    },
    {
      "cell_type": "code",
      "source": [
        "numbers = [10, 20, 30, 40, 50]\n",
        "\n",
        "with open(\"numbers.txt\", \"w\") as file:\n",
        "    for number in numbers:\n",
        "        file.write(str(number) + \"\\n\")\n"
      ],
      "metadata": {
        "id": "3wKIm8blyJ-S"
      },
      "execution_count": null,
      "outputs": []
    },
    {
      "cell_type": "markdown",
      "source": [
        "18. How would you implement a basic logging setup that logs to a file with rotation after 1MB?"
      ],
      "metadata": {
        "id": "pV2LNO-A1BEn"
      }
    },
    {
      "cell_type": "code",
      "source": [
        "import logging\n",
        "from logging.handlers import RotatingFileHandler\n",
        "\n",
        "# Create logger\n",
        "logger = logging.getLogger(\"MyLogger\")\n",
        "logger.setLevel(logging.DEBUG)\n",
        "\n",
        "# Create a rotating file handler\n",
        "handler = RotatingFileHandler(\"app.log\", maxBytes=1_000_000, backupCount=3)\n",
        "handler.setLevel(logging.DEBUG)\n",
        "\n",
        "# Create a formatter and set it for the handler\n",
        "formatter = logging.Formatter('%(asctime)s - %(levelname)s - %(message)s')\n",
        "handler.setFormatter(formatter)\n",
        "\n",
        "# Add the handler to the logger\n",
        "logger.addHandler(handler)\n",
        "\n",
        "# Example usage\n",
        "logger.info(\"This is an info message.\")\n",
        "logger.error(\"This is an error message.\")\n"
      ],
      "metadata": {
        "colab": {
          "base_uri": "https://localhost:8080/"
        },
        "id": "CHJX-Fee0X3j",
        "outputId": "cc12015c-fc0a-4c13-c995-e4600e06653e"
      },
      "execution_count": null,
      "outputs": [
        {
          "output_type": "stream",
          "name": "stderr",
          "text": [
            "INFO:MyLogger:This is an info message.\n",
            "ERROR:MyLogger:This is an error message.\n"
          ]
        }
      ]
    },
    {
      "cell_type": "markdown",
      "source": [
        "19. Write a program that handles both IndexError and KeyError using a try-except block."
      ],
      "metadata": {
        "id": "4pOC9xmF3AbZ"
      }
    },
    {
      "cell_type": "code",
      "source": [
        "my_list = [1, 2, 3]\n",
        "my_dict = {\"a\": 10, \"b\": 20}\n",
        "\n",
        "try:\n",
        "    print(my_list[5])         # This will raise IndexError\n",
        "    print(my_dict[\"c\"])       # This would raise KeyError, but won't run because of previous error\n",
        "except IndexError:\n",
        "    print(\"Error: List index out of range.\")\n",
        "except KeyError:\n",
        "    print(\"Error: Key not found in dictionary.\")\n"
      ],
      "metadata": {
        "colab": {
          "base_uri": "https://localhost:8080/"
        },
        "id": "d0zLDcli1Mzh",
        "outputId": "e66882d7-9dac-49a1-be03-d1bdd3b0c6da"
      },
      "execution_count": null,
      "outputs": [
        {
          "output_type": "stream",
          "name": "stdout",
          "text": [
            "Error: List index out of range.\n"
          ]
        }
      ]
    },
    {
      "cell_type": "markdown",
      "source": [
        "20. How would you open a file and read its contents using a context manager in Python?"
      ],
      "metadata": {
        "id": "_qACNyR-3eUt"
      }
    },
    {
      "cell_type": "code",
      "source": [
        "with open(\"example.txt\", \"r\") as file:\n",
        "    content = file.read()\n",
        "    print(content)\n"
      ],
      "metadata": {
        "colab": {
          "base_uri": "https://localhost:8080/"
        },
        "id": "GbXRQkNg3Ozn",
        "outputId": "32152388-f4a7-46a2-eb45-02196c312919"
      },
      "execution_count": null,
      "outputs": [
        {
          "output_type": "stream",
          "name": "stdout",
          "text": [
            "Hello, this is a sample text!This is the new data being appended.\n",
            "This is the new data being appended.\n",
            "\n"
          ]
        }
      ]
    },
    {
      "cell_type": "markdown",
      "source": [
        "21. Write a Python program that reads a file and prints the number of occurrences of a specific word."
      ],
      "metadata": {
        "id": "xzap9TtZ4m6v"
      }
    },
    {
      "cell_type": "code",
      "source": [
        "filename = \"example.txt\"\n",
        "search_word = \"Python\"\n",
        "count = 0\n",
        "\n",
        "with open(filename, \"r\") as file:\n",
        "    for line in file:\n",
        "        words = line.split()\n",
        "        count += words.count(search_word)\n",
        "\n",
        "print(f\"The word '{search_word}' occurred {count} times in the file.\")\n"
      ],
      "metadata": {
        "colab": {
          "base_uri": "https://localhost:8080/"
        },
        "id": "8yscTEhg4e2x",
        "outputId": "f359a7a7-512b-4889-b389-2ebb65fea78f"
      },
      "execution_count": null,
      "outputs": [
        {
          "output_type": "stream",
          "name": "stdout",
          "text": [
            "The word 'Python' occurred 0 times in the file.\n"
          ]
        }
      ]
    },
    {
      "cell_type": "markdown",
      "source": [
        "22. How can you check if a file is empty before attempting to read its contents?"
      ],
      "metadata": {
        "id": "d1ZMll035AO-"
      }
    },
    {
      "cell_type": "code",
      "source": [
        "import os\n",
        "\n",
        "filename = \"example.txt\"\n",
        "\n",
        "if os.path.exists(filename) and os.path.getsize(filename) > 0:\n",
        "    with open(filename, \"r\") as file:\n",
        "        content = file.read()\n",
        "        print(content)\n",
        "else:\n",
        "    print(\"The file is empty or does not exist.\")\n"
      ],
      "metadata": {
        "colab": {
          "base_uri": "https://localhost:8080/"
        },
        "id": "KaiJr-Ws44gm",
        "outputId": "5d02039e-af8f-47ec-967f-bbd71190b8df"
      },
      "execution_count": null,
      "outputs": [
        {
          "output_type": "stream",
          "name": "stdout",
          "text": [
            "Hello, this is a sample text!This is the new data being appended.\n",
            "This is the new data being appended.\n",
            "\n"
          ]
        }
      ]
    },
    {
      "cell_type": "markdown",
      "source": [
        "23. Write a Python program that writes to a log file when an error occurs during file handling."
      ],
      "metadata": {
        "id": "IreErHBw5eNm"
      }
    },
    {
      "cell_type": "code",
      "source": [
        "import logging\n",
        "\n",
        "# Configure logging to write errors to 'file_errors.log'\n",
        "logging.basicConfig(filename='file_errors.log',\n",
        "                    level=logging.ERROR,\n",
        "                    format='%(asctime)s - %(levelname)s - %(message)s')\n",
        "\n",
        "try:\n",
        "    with open(\"nonexistent_file.txt\", \"r\") as file:\n",
        "        content = file.read()\n",
        "except Exception as e:\n",
        "    logging.error(f\"An error occurred while handling the file: {e}\")\n",
        "    print(\"An error occurred. Check the log file for details.\")\n"
      ],
      "metadata": {
        "colab": {
          "base_uri": "https://localhost:8080/"
        },
        "id": "kK_3XiUL5U9I",
        "outputId": "015e3444-a9c1-4168-c5d5-b8ef9a700c7f"
      },
      "execution_count": null,
      "outputs": [
        {
          "output_type": "stream",
          "name": "stderr",
          "text": [
            "ERROR:root:An error occurred while handling the file: [Errno 2] No such file or directory: 'nonexistent_file.txt'\n"
          ]
        },
        {
          "output_type": "stream",
          "name": "stdout",
          "text": [
            "An error occurred. Check the log file for details.\n"
          ]
        }
      ]
    },
    {
      "cell_type": "code",
      "source": [],
      "metadata": {
        "id": "oe-bXhTs6NLa"
      },
      "execution_count": null,
      "outputs": []
    }
  ]
}